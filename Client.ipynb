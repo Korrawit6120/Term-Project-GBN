{
 "cells": [
  {
   "cell_type": "code",
   "execution_count": 1,
   "id": "4b2692ea-4153-4076-8fa4-658e5f7f8c07",
   "metadata": {},
   "outputs": [
    {
     "name": "stdout",
     "output_type": "stream",
     "text": [
      "Timeout: Resending packets in the current window\n",
      "Timeout: Resending packets in the current window\n",
      "Timeout: Resending packets in the current window\n",
      "Timeout: Resending packets in the current window\n"
     ]
    },
    {
     "ename": "KeyboardInterrupt",
     "evalue": "",
     "output_type": "error",
     "traceback": [
      "\u001b[1;31m---------------------------------------------------------------------------\u001b[0m",
      "\u001b[1;31mTimeoutError\u001b[0m                              Traceback (most recent call last)",
      "Cell \u001b[1;32mIn[1], line 26\u001b[0m, in \u001b[0;36mmain\u001b[1;34m()\u001b[0m\n\u001b[0;32m     25\u001b[0m client_socket\u001b[38;5;241m.\u001b[39msettimeout(\u001b[38;5;241m2\u001b[39m)\n\u001b[1;32m---> 26\u001b[0m data, addr \u001b[38;5;241m=\u001b[39m \u001b[43mclient_socket\u001b[49m\u001b[38;5;241;43m.\u001b[39;49m\u001b[43mrecvfrom\u001b[49m\u001b[43m(\u001b[49m\u001b[38;5;241;43m1024\u001b[39;49m\u001b[43m)\u001b[49m\n\u001b[0;32m     27\u001b[0m ack \u001b[38;5;241m=\u001b[39m pickle\u001b[38;5;241m.\u001b[39mloads(data)\n",
      "\u001b[1;31mTimeoutError\u001b[0m: timed out",
      "\nDuring handling of the above exception, another exception occurred:\n",
      "\u001b[1;31mKeyboardInterrupt\u001b[0m                         Traceback (most recent call last)",
      "Cell \u001b[1;32mIn[1], line 36\u001b[0m\n\u001b[0;32m     33\u001b[0m     client_socket\u001b[38;5;241m.\u001b[39mclose()\n\u001b[0;32m     35\u001b[0m \u001b[38;5;28;01mif\u001b[39;00m \u001b[38;5;18m__name__\u001b[39m \u001b[38;5;241m==\u001b[39m \u001b[38;5;124m\"\u001b[39m\u001b[38;5;124m__main__\u001b[39m\u001b[38;5;124m\"\u001b[39m:\n\u001b[1;32m---> 36\u001b[0m     \u001b[43mmain\u001b[49m\u001b[43m(\u001b[49m\u001b[43m)\u001b[49m\n",
      "Cell \u001b[1;32mIn[1], line 26\u001b[0m, in \u001b[0;36mmain\u001b[1;34m()\u001b[0m\n\u001b[0;32m     24\u001b[0m \u001b[38;5;28;01mtry\u001b[39;00m:\n\u001b[0;32m     25\u001b[0m     client_socket\u001b[38;5;241m.\u001b[39msettimeout(\u001b[38;5;241m2\u001b[39m)\n\u001b[1;32m---> 26\u001b[0m     data, addr \u001b[38;5;241m=\u001b[39m \u001b[43mclient_socket\u001b[49m\u001b[38;5;241;43m.\u001b[39;49m\u001b[43mrecvfrom\u001b[49m\u001b[43m(\u001b[49m\u001b[38;5;241;43m1024\u001b[39;49m\u001b[43m)\u001b[49m\n\u001b[0;32m     27\u001b[0m     ack \u001b[38;5;241m=\u001b[39m pickle\u001b[38;5;241m.\u001b[39mloads(data)\n\u001b[0;32m     28\u001b[0m     base \u001b[38;5;241m=\u001b[39m (ack \u001b[38;5;241m+\u001b[39m \u001b[38;5;241m1\u001b[39m) \u001b[38;5;241m%\u001b[39m \u001b[38;5;241m2\u001b[39m\n",
      "\u001b[1;31mKeyboardInterrupt\u001b[0m: "
     ]
    }
   ],
   "source": [
    "# client.py\n",
    "\n",
    "import socket\n",
    "import pickle\n",
    "\n",
    "def main():\n",
    "    client_socket = socket.socket(socket.AF_INET, socket.SOCK_DGRAM)\n",
    "    server_address = ('127.0.0.1', 1234)\n",
    "    \n",
    "    window_size = 4\n",
    "    base = 0\n",
    "    next_seq_num = 0\n",
    "    \n",
    "    messages = [\"Message 1\", \"Message 2\", \"Message 3\", \"Message 4\", \"Message 5\"]\n",
    "    \n",
    "    while base < len(messages):\n",
    "        for i in range(base, min(base + window_size, len(messages))):\n",
    "            message = messages[i]\n",
    "            packet = (next_seq_num, message)\n",
    "            data = pickle.dumps(packet)\n",
    "            client_socket.sendto(data, server_address)\n",
    "            next_seq_num = (next_seq_num + 1) % 2\n",
    "        \n",
    "        try:\n",
    "            client_socket.settimeout(2)\n",
    "            data, addr = client_socket.recvfrom(1024)\n",
    "            ack = pickle.loads(data)\n",
    "            base = (ack + 1) % 2\n",
    "        except socket.timeout:\n",
    "            print(\"Timeout: Resending packets in the current window\")\n",
    "            next_seq_num = base\n",
    "    \n",
    "    client_socket.close()\n",
    "\n",
    "if __name__ == \"__main__\":\n",
    "    main()"
   ]
  },
  {
   "cell_type": "code",
   "execution_count": null,
   "id": "9837ab1a-2dce-4684-97b6-9096ea37cb50",
   "metadata": {},
   "outputs": [],
   "source": []
  }
 ],
 "metadata": {
  "kernelspec": {
   "display_name": "Python 3 (ipykernel)",
   "language": "python",
   "name": "python3"
  },
  "language_info": {
   "codemirror_mode": {
    "name": "ipython",
    "version": 3
   },
   "file_extension": ".py",
   "mimetype": "text/x-python",
   "name": "python",
   "nbconvert_exporter": "python",
   "pygments_lexer": "ipython3",
   "version": "3.10.12"
  }
 },
 "nbformat": 4,
 "nbformat_minor": 5
}
